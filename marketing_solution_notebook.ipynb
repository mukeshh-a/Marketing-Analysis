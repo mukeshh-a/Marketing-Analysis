{
    "metadata": {
        "kernelspec": {
            "name": "SQL",
            "display_name": "SQL",
            "language": "sql"
        },
        "language_info": {
            "name": "sql",
            "version": ""
        }
    },
    "nbformat_minor": 2,
    "nbformat": 4,
    "cells": [
        {
            "cell_type": "markdown",
            "source": [
                "1. How many transactions were completed during each marketing campaign?"
            ],
            "metadata": {
                "azdata_cell_guid": "ddb314d7-e883-44e3-b277-86c7ed0e2ebd"
            }
        },
        {
            "cell_type": "code",
            "source": [
                "select campaign_name, count(transaction_id) as total_transactions\n",
                "from transactions t \n",
                "join marketing_campaigns mc on t.product_id = mc.product_id\n",
                "where t.purchase_date between mc.start_date and mc.end_date\n",
                "group by campaign_name\n",
                "order by total_transactions;"
            ],
            "metadata": {
                "azdata_cell_guid": "df690035-e98e-4cdc-bfed-0ddc556eea83",
                "language": "sql"
            },
            "outputs": [
                {
                    "output_type": "display_data",
                    "data": {
                        "text/html": "(3 rows affected)"
                    },
                    "metadata": {}
                },
                {
                    "output_type": "display_data",
                    "data": {
                        "text/html": "Total execution time: 00:00:00.023"
                    },
                    "metadata": {}
                },
                {
                    "output_type": "execute_result",
                    "metadata": {},
                    "execution_count": 3,
                    "data": {
                        "application/vnd.dataresource+json": {
                            "schema": {
                                "fields": [
                                    {
                                        "name": "campaign_name"
                                    },
                                    {
                                        "name": "total_transactions"
                                    }
                                ]
                            },
                            "data": [
                                {
                                    "0": "Super Save",
                                    "1": "1"
                                },
                                {
                                    "0": "New Collection Launch",
                                    "1": "4"
                                },
                                {
                                    "0": "Summer Sale",
                                    "1": "5"
                                }
                            ]
                        },
                        "text/html": [
                            "<table>",
                            "<tr><th>campaign_name</th><th>total_transactions</th></tr>",
                            "<tr><td>Super Save</td><td>1</td></tr>",
                            "<tr><td>New Collection Launch</td><td>4</td></tr>",
                            "<tr><td>Summer Sale</td><td>5</td></tr>",
                            "</table>"
                        ]
                    }
                }
            ],
            "execution_count": 3
        },
        {
            "cell_type": "markdown",
            "source": [
                "2\\. Which product had the highest sales quantity?"
            ],
            "metadata": {
                "language": "sql",
                "azdata_cell_guid": "2580f168-7471-44b0-ac37-29b062dafaec"
            },
            "attachments": {}
        },
        {
            "cell_type": "code",
            "source": [
                "select top 1 sc.product_name as product_name, sum(quantity) as sales_quantity\r\n",
                "from transactions t \r\n",
                "join sustainable_clothing sc on t.product_id = sc.product_id\r\n",
                "group by product_name\r\n",
                "order by sales_quantity desc;"
            ],
            "metadata": {
                "language": "sql",
                "azdata_cell_guid": "5db96c8b-dff5-4f9c-9f84-0a5a0de7bf91"
            },
            "outputs": [
                {
                    "output_type": "display_data",
                    "data": {
                        "text/html": "(1 row affected)"
                    },
                    "metadata": {}
                },
                {
                    "output_type": "display_data",
                    "data": {
                        "text/html": "Total execution time: 00:00:00.017"
                    },
                    "metadata": {}
                },
                {
                    "output_type": "execute_result",
                    "metadata": {},
                    "execution_count": 4,
                    "data": {
                        "application/vnd.dataresource+json": {
                            "schema": {
                                "fields": [
                                    {
                                        "name": "product_name"
                                    },
                                    {
                                        "name": "sales_quantity"
                                    }
                                ]
                            },
                            "data": [
                                {
                                    "0": "Organic Cotton Sweater",
                                    "1": "9"
                                }
                            ]
                        },
                        "text/html": [
                            "<table>",
                            "<tr><th>product_name</th><th>sales_quantity</th></tr>",
                            "<tr><td>Organic Cotton Sweater</td><td>9</td></tr>",
                            "</table>"
                        ]
                    }
                }
            ],
            "execution_count": 4
        },
        {
            "cell_type": "markdown",
            "source": [
                "3\\. What is the total revenue generated from each marketing campaign?"
            ],
            "metadata": {
                "language": "sql",
                "azdata_cell_guid": "b5813f19-38ae-4258-868e-bef5258ee406"
            },
            "attachments": {}
        },
        {
            "cell_type": "code",
            "source": [
                "select mc.campaign_name as campaign_name, sum(t.quantity * sc.price) as total_revenue \r\n",
                "from transactions t  \r\n",
                "join sustainable_clothing sc on t.product_id = sc.product_id\r\n",
                "join marketing_campaigns mc on t.product_id = mc.product_id and mc.product_id = t.product_id\r\n",
                "group by mc.campaign_name\r\n",
                "order by total_revenue;\r\n",
                ""
            ],
            "metadata": {
                "language": "sql",
                "azdata_cell_guid": "3d19e354-b004-4af5-b0ea-e3a2513befb1"
            },
            "outputs": [
                {
                    "output_type": "display_data",
                    "data": {
                        "text/html": "(3 rows affected)"
                    },
                    "metadata": {}
                },
                {
                    "output_type": "display_data",
                    "data": {
                        "text/html": "Total execution time: 00:00:00.026"
                    },
                    "metadata": {}
                },
                {
                    "output_type": "execute_result",
                    "metadata": {},
                    "execution_count": 5,
                    "data": {
                        "application/vnd.dataresource+json": {
                            "schema": {
                                "fields": [
                                    {
                                        "name": "campaign_name"
                                    },
                                    {
                                        "name": "total_revenue"
                                    }
                                ]
                            },
                            "data": [
                                {
                                    "0": "Super Save",
                                    "1": "209.96999999999997"
                                },
                                {
                                    "0": "New Collection Launch",
                                    "1": "439.92"
                                },
                                {
                                    "0": "Summer Sale",
                                    "1": "639.92"
                                }
                            ]
                        },
                        "text/html": [
                            "<table>",
                            "<tr><th>campaign_name</th><th>total_revenue</th></tr>",
                            "<tr><td>Super Save</td><td>209.96999999999997</td></tr>",
                            "<tr><td>New Collection Launch</td><td>439.92</td></tr>",
                            "<tr><td>Summer Sale</td><td>639.92</td></tr>",
                            "</table>"
                        ]
                    }
                }
            ],
            "execution_count": 5
        },
        {
            "cell_type": "markdown",
            "source": [
                "4\\. What is the top-selling product category based on the total revenue generated?"
            ],
            "metadata": {
                "language": "sql",
                "azdata_cell_guid": "7824a699-2250-4543-8cc6-d5a85b957969"
            },
            "attachments": {}
        },
        {
            "cell_type": "code",
            "source": [
                "select top 1 sc.category as category, sum(t.quantity * sc.price) as total_revenue \r\n",
                "from transactions t  \r\n",
                "join sustainable_clothing sc on t.product_id = sc.product_id\r\n",
                "group by sc.category\r\n",
                "order by total_revenue desc;"
            ],
            "metadata": {
                "azdata_cell_guid": "84e3557d-979e-471d-b5cb-6751262ed3a1",
                "language": "sql"
            },
            "outputs": [
                {
                    "output_type": "display_data",
                    "data": {
                        "text/html": "(1 row affected)"
                    },
                    "metadata": {}
                },
                {
                    "output_type": "display_data",
                    "data": {
                        "text/html": "Total execution time: 00:00:00.050"
                    },
                    "metadata": {}
                },
                {
                    "output_type": "execute_result",
                    "metadata": {},
                    "execution_count": 6,
                    "data": {
                        "application/vnd.dataresource+json": {
                            "schema": {
                                "fields": [
                                    {
                                        "name": "category"
                                    },
                                    {
                                        "name": "total_revenue"
                                    }
                                ]
                            },
                            "data": [
                                {
                                    "0": "Bottoms",
                                    "1": "1289.79"
                                }
                            ]
                        },
                        "text/html": [
                            "<table>",
                            "<tr><th>category</th><th>total_revenue</th></tr>",
                            "<tr><td>Bottoms</td><td>1289.79</td></tr>",
                            "</table>"
                        ]
                    }
                }
            ],
            "execution_count": 6
        },
        {
            "cell_type": "markdown",
            "source": [
                "5\\. Which products had a higher quantity sold compared to the average quantity sold?"
            ],
            "metadata": {
                "language": "sql",
                "azdata_cell_guid": "d780ae20-c813-4ea0-873b-bbc58384c45f"
            },
            "attachments": {}
        },
        {
            "cell_type": "code",
            "source": [
                "select sc.product_name, sum(t.quantity) as quantity_sold\r\n",
                "from transactions t \r\n",
                "join sustainable_clothing sc on t.product_id = sc.product_id\r\n",
                "group by sc.product_name\r\n",
                "having sum(t.quantity) > avg(t.quantity)\r\n",
                "order by quantity_sold desc;\r\n",
                ""
            ],
            "metadata": {
                "azdata_cell_guid": "ab51ba89-95b1-41b6-b964-97165e3cdcc6",
                "language": "sql"
            },
            "outputs": [
                {
                    "output_type": "display_data",
                    "data": {
                        "text/html": "(18 rows affected)"
                    },
                    "metadata": {}
                },
                {
                    "output_type": "display_data",
                    "data": {
                        "text/html": "Total execution time: 00:00:00.012"
                    },
                    "metadata": {}
                },
                {
                    "output_type": "execute_result",
                    "metadata": {},
                    "execution_count": 7,
                    "data": {
                        "application/vnd.dataresource+json": {
                            "schema": {
                                "fields": [
                                    {
                                        "name": "product_name"
                                    },
                                    {
                                        "name": "quantity_sold"
                                    }
                                ]
                            },
                            "data": [
                                {
                                    "0": "Organic Cotton Sweater",
                                    "1": "9"
                                },
                                {
                                    "0": "Recycled Denim Jeans",
                                    "1": "8"
                                },
                                {
                                    "0": "Bamboo Yoga Leggings",
                                    "1": "8"
                                },
                                {
                                    "0": "Linen Jumpsuit",
                                    "1": "7"
                                },
                                {
                                    "0": "Organic Cotton Socks",
                                    "1": "7"
                                },
                                {
                                    "0": "Organic Cotton Skirt",
                                    "1": "5"
                                },
                                {
                                    "0": "Bamboo Lounge Pants",
                                    "1": "5"
                                },
                                {
                                    "0": "Eco-Friendly Hoodie",
                                    "1": "5"
                                },
                                {
                                    "0": "Hemp Baseball Cap",
                                    "1": "5"
                                },
                                {
                                    "0": "Cork Sandals",
                                    "1": "4"
                                },
                                {
                                    "0": "Recycled Polyester Jacket",
                                    "1": "4"
                                },
                                {
                                    "0": "Upcycled Denim Jacket",
                                    "1": "3"
                                },
                                {
                                    "0": "Hemp Overalls",
                                    "1": "3"
                                },
                                {
                                    "0": "Linen Button-Down Shirt",
                                    "1": "3"
                                },
                                {
                                    "0": "Organic Cotton Dress",
                                    "1": "3"
                                },
                                {
                                    "0": "Recycled Nylon Backpack",
                                    "1": "2"
                                },
                                {
                                    "0": "Organic Cotton T-Shirt",
                                    "1": "2"
                                },
                                {
                                    "0": "Bamboo Bathrobe",
                                    "1": "2"
                                }
                            ]
                        },
                        "text/html": [
                            "<table>",
                            "<tr><th>product_name</th><th>quantity_sold</th></tr>",
                            "<tr><td>Organic Cotton Sweater</td><td>9</td></tr>",
                            "<tr><td>Recycled Denim Jeans</td><td>8</td></tr>",
                            "<tr><td>Bamboo Yoga Leggings</td><td>8</td></tr>",
                            "<tr><td>Linen Jumpsuit</td><td>7</td></tr>",
                            "<tr><td>Organic Cotton Socks</td><td>7</td></tr>",
                            "<tr><td>Organic Cotton Skirt</td><td>5</td></tr>",
                            "<tr><td>Bamboo Lounge Pants</td><td>5</td></tr>",
                            "<tr><td>Eco-Friendly Hoodie</td><td>5</td></tr>",
                            "<tr><td>Hemp Baseball Cap</td><td>5</td></tr>",
                            "<tr><td>Cork Sandals</td><td>4</td></tr>",
                            "<tr><td>Recycled Polyester Jacket</td><td>4</td></tr>",
                            "<tr><td>Upcycled Denim Jacket</td><td>3</td></tr>",
                            "<tr><td>Hemp Overalls</td><td>3</td></tr>",
                            "<tr><td>Linen Button-Down Shirt</td><td>3</td></tr>",
                            "<tr><td>Organic Cotton Dress</td><td>3</td></tr>",
                            "<tr><td>Recycled Nylon Backpack</td><td>2</td></tr>",
                            "<tr><td>Organic Cotton T-Shirt</td><td>2</td></tr>",
                            "<tr><td>Bamboo Bathrobe</td><td>2</td></tr>",
                            "</table>"
                        ]
                    }
                }
            ],
            "execution_count": 7
        },
        {
            "cell_type": "markdown",
            "source": [
                "6\\. What is the average revenue generated per day during the marketing campaigns?"
            ],
            "metadata": {
                "language": "sql",
                "azdata_cell_guid": "fb438449-0545-4eab-b20f-27e96bf82433"
            },
            "attachments": {}
        },
        {
            "cell_type": "code",
            "source": [
                "select mc.campaign_name as campaign_name, \r\n",
                "       sum(t.quantity * sc.price) / (datediff(day, mc.start_date, mc.end_date) + 1) as average_revenue_per_day\r\n",
                "from marketing_campaigns mc\r\n",
                "join transactions t on mc.product_id = t.product_id\r\n",
                "join sustainable_clothing sc on t.product_id = sc.product_id\r\n",
                "group by mc.campaign_name, mc.start_date, mc.end_date;"
            ],
            "metadata": {
                "azdata_cell_guid": "f17c3f4a-a08d-4bd4-8675-c0149c483f09",
                "language": "sql"
            },
            "outputs": [
                {
                    "output_type": "display_data",
                    "data": {
                        "text/html": "(3 rows affected)"
                    },
                    "metadata": {}
                },
                {
                    "output_type": "display_data",
                    "data": {
                        "text/html": "Total execution time: 00:00:00.083"
                    },
                    "metadata": {}
                },
                {
                    "output_type": "execute_result",
                    "metadata": {},
                    "execution_count": 8,
                    "data": {
                        "application/vnd.dataresource+json": {
                            "schema": {
                                "fields": [
                                    {
                                        "name": "campaign_name"
                                    },
                                    {
                                        "name": "average_revenue_per_day"
                                    }
                                ]
                            },
                            "data": [
                                {
                                    "0": "New Collection Launch",
                                    "1": "13.7475"
                                },
                                {
                                    "0": "Summer Sale",
                                    "1": "21.330666666666666"
                                },
                                {
                                    "0": "Super Save",
                                    "1": "7.7766666666666655"
                                }
                            ]
                        },
                        "text/html": [
                            "<table>",
                            "<tr><th>campaign_name</th><th>average_revenue_per_day</th></tr>",
                            "<tr><td>New Collection Launch</td><td>13.7475</td></tr>",
                            "<tr><td>Summer Sale</td><td>21.330666666666666</td></tr>",
                            "<tr><td>Super Save</td><td>7.7766666666666655</td></tr>",
                            "</table>"
                        ]
                    }
                }
            ],
            "execution_count": 8
        },
        {
            "cell_type": "markdown",
            "source": [
                "7\\. What is the percentage contribution of each product to the total revenue?"
            ],
            "metadata": {
                "language": "sql",
                "azdata_cell_guid": "49cc6293-1245-4e53-921b-4bb1b21f4efa"
            },
            "attachments": {}
        },
        {
            "cell_type": "code",
            "source": [
                "select sc.product_name as product_name, \r\n",
                "       (sum(t.quantity * sc.price) / sum(sum(t.quantity * sc.price)) over ()) * 100 as revenue_percentage\r\n",
                "from transactions t\r\n",
                "join sustainable_clothing sc on t.product_id = sc.product_id\r\n",
                "group by sc.product_name\r\n",
                "order by revenue_percentage desc;\r\n",
                ""
            ],
            "metadata": {
                "azdata_cell_guid": "6faf8834-8553-4024-a5c1-e7d530ddb2f8",
                "language": "sql"
            },
            "outputs": [
                {
                    "output_type": "display_data",
                    "data": {
                        "text/html": "(20 rows affected)"
                    },
                    "metadata": {}
                },
                {
                    "output_type": "display_data",
                    "data": {
                        "text/html": "Total execution time: 00:00:00.026"
                    },
                    "metadata": {}
                },
                {
                    "output_type": "execute_result",
                    "metadata": {},
                    "execution_count": 9,
                    "data": {
                        "application/vnd.dataresource+json": {
                            "schema": {
                                "fields": [
                                    {
                                        "name": "product_name"
                                    },
                                    {
                                        "name": "revenue_percentage"
                                    }
                                ]
                            },
                            "data": [
                                {
                                    "0": "Recycled Denim Jeans",
                                    "1": "13.705366321705162"
                                },
                                {
                                    "0": "Linen Jumpsuit",
                                    "1": "10.49298368857515"
                                },
                                {
                                    "0": "Organic Cotton Sweater",
                                    "1": "9.635862860667538"
                                },
                                {
                                    "0": "Bamboo Yoga Leggings",
                                    "1": "9.421903913371258"
                                },
                                {
                                    "0": "Recycled Polyester Jacket",
                                    "1": "7.709375642519363"
                                },
                                {
                                    "0": "Eco-Friendly Hoodie",
                                    "1": "6.4241227468987745"
                                },
                                {
                                    "0": "Bamboo Lounge Pants",
                                    "1": "5.353257144815298"
                                },
                                {
                                    "0": "Upcycled Denim Jacket",
                                    "1": "5.139512370639436"
                                },
                                {
                                    "0": "Hemp Overalls",
                                    "1": "4.8182526900143925"
                                },
                                {
                                    "0": "Organic Cotton Dress",
                                    "1": "4.49699300938935"
                                },
                                {
                                    "0": "Organic Cotton Skirt",
                                    "1": "3.7469587416900834"
                                },
                                {
                                    "0": "Cork Sandals",
                                    "1": "3.4259132341854577"
                                },
                                {
                                    "0": "Bamboo Bathrobe",
                                    "1": "2.9979953395929"
                                },
                                {
                                    "0": "Hemp Baseball Cap",
                                    "1": "2.676093139606607"
                                },
                                {
                                    "0": "Recycled Nylon Backpack",
                                    "1": "2.56964909875951"
                                },
                                {
                                    "0": "Linen Button-Down Shirt",
                                    "1": "2.569434925639093"
                                },
                                {
                                    "0": "Sustainable Swim Shorts",
                                    "1": "1.4987834966760336"
                                },
                                {
                                    "0": "Organic Cotton Socks",
                                    "1": "1.4977126310739501"
                                },
                                {
                                    "0": "Organic Cotton T-Shirt",
                                    "1": "1.2846103762593382"
                                },
                                {
                                    "0": "Hemp Crop Top",
                                    "1": "0.5352186279213215"
                                }
                            ]
                        },
                        "text/html": [
                            "<table>",
                            "<tr><th>product_name</th><th>revenue_percentage</th></tr>",
                            "<tr><td>Recycled Denim Jeans</td><td>13.705366321705162</td></tr>",
                            "<tr><td>Linen Jumpsuit</td><td>10.49298368857515</td></tr>",
                            "<tr><td>Organic Cotton Sweater</td><td>9.635862860667538</td></tr>",
                            "<tr><td>Bamboo Yoga Leggings</td><td>9.421903913371258</td></tr>",
                            "<tr><td>Recycled Polyester Jacket</td><td>7.709375642519363</td></tr>",
                            "<tr><td>Eco-Friendly Hoodie</td><td>6.4241227468987745</td></tr>",
                            "<tr><td>Bamboo Lounge Pants</td><td>5.353257144815298</td></tr>",
                            "<tr><td>Upcycled Denim Jacket</td><td>5.139512370639436</td></tr>",
                            "<tr><td>Hemp Overalls</td><td>4.8182526900143925</td></tr>",
                            "<tr><td>Organic Cotton Dress</td><td>4.49699300938935</td></tr>",
                            "<tr><td>Organic Cotton Skirt</td><td>3.7469587416900834</td></tr>",
                            "<tr><td>Cork Sandals</td><td>3.4259132341854577</td></tr>",
                            "<tr><td>Bamboo Bathrobe</td><td>2.9979953395929</td></tr>",
                            "<tr><td>Hemp Baseball Cap</td><td>2.676093139606607</td></tr>",
                            "<tr><td>Recycled Nylon Backpack</td><td>2.56964909875951</td></tr>",
                            "<tr><td>Linen Button-Down Shirt</td><td>2.569434925639093</td></tr>",
                            "<tr><td>Sustainable Swim Shorts</td><td>1.4987834966760336</td></tr>",
                            "<tr><td>Organic Cotton Socks</td><td>1.4977126310739501</td></tr>",
                            "<tr><td>Organic Cotton T-Shirt</td><td>1.2846103762593382</td></tr>",
                            "<tr><td>Hemp Crop Top</td><td>0.5352186279213215</td></tr>",
                            "</table>"
                        ]
                    }
                }
            ],
            "execution_count": 9
        },
        {
            "cell_type": "markdown",
            "source": [
                "8\\. Compare the average quantity sold during marketing campaigns to outside the marketing campaigns"
            ],
            "metadata": {
                "language": "sql",
                "azdata_cell_guid": "4c222892-3958-4b7e-aa40-1c1994668e05"
            },
            "attachments": {}
        },
        {
            "cell_type": "code",
            "source": [
                "select transaction_type, avg(average_quantity) as average_quantity\r\n",
                "from (select \r\n",
                "         case when mc.campaign_id is not null then 'marketing campaigns' else 'outside marketing campaigns' \r\n",
                "\t\t end as transaction_type,\r\n",
                "         t.quantity as average_quantity\r\n",
                "      from transactions t\r\n",
                "      left join marketing_campaigns mc on t.product_id = mc.product_id) subquery\r\n",
                "group by transaction_type;"
            ],
            "metadata": {
                "azdata_cell_guid": "af485861-36c4-48c0-a0aa-21d08a4901df",
                "language": "sql"
            },
            "outputs": [
                {
                    "output_type": "display_data",
                    "data": {
                        "text/html": "(2 rows affected)"
                    },
                    "metadata": {}
                },
                {
                    "output_type": "display_data",
                    "data": {
                        "text/html": "Total execution time: 00:00:00.009"
                    },
                    "metadata": {}
                },
                {
                    "output_type": "execute_result",
                    "metadata": {},
                    "execution_count": 10,
                    "data": {
                        "application/vnd.dataresource+json": {
                            "schema": {
                                "fields": [
                                    {
                                        "name": "transaction_type"
                                    },
                                    {
                                        "name": "average_quantity"
                                    }
                                ]
                            },
                            "data": [
                                {
                                    "0": "marketing campaigns",
                                    "1": "1"
                                },
                                {
                                    "0": "outside marketing campaigns",
                                    "1": "1"
                                }
                            ]
                        },
                        "text/html": [
                            "<table>",
                            "<tr><th>transaction_type</th><th>average_quantity</th></tr>",
                            "<tr><td>marketing campaigns</td><td>1</td></tr>",
                            "<tr><td>outside marketing campaigns</td><td>1</td></tr>",
                            "</table>"
                        ]
                    }
                }
            ],
            "execution_count": 10
        },
        {
            "cell_type": "markdown",
            "source": [
                "9\\. Compare the revenue generated by products inside the marketing campaigns to outside the campaigns"
            ],
            "metadata": {
                "language": "sql",
                "azdata_cell_guid": "103e6d6a-e127-4a61-8473-80397473c5ce"
            },
            "attachments": {}
        },
        {
            "cell_type": "code",
            "source": [
                "select transaction_type, sum(revenue) as total_revenue\r\n",
                "from (select \r\n",
                "         case when mc.campaign_id is not null then 'marketing campaigns' else 'outside marketing campaigns' \r\n",
                "\t\t end as transaction_type,\r\n",
                "         t.quantity * sc.price as revenue\r\n",
                "      from transactions t\r\n",
                "      left join marketing_campaigns mc on t.product_id = mc.product_id\r\n",
                "      join sustainable_clothing sc on t.product_id = sc.product_id\r\n",
                ") subquery\r\n",
                "group by transaction_type;"
            ],
            "metadata": {
                "azdata_cell_guid": "2f19fae2-c768-4544-8724-5be1cc02cb51",
                "language": "sql"
            },
            "outputs": [
                {
                    "output_type": "display_data",
                    "data": {
                        "text/html": "(2 rows affected)"
                    },
                    "metadata": {}
                },
                {
                    "output_type": "display_data",
                    "data": {
                        "text/html": "Total execution time: 00:00:00.008"
                    },
                    "metadata": {}
                },
                {
                    "output_type": "execute_result",
                    "metadata": {},
                    "execution_count": 11,
                    "data": {
                        "application/vnd.dataresource+json": {
                            "schema": {
                                "fields": [
                                    {
                                        "name": "transaction_type"
                                    },
                                    {
                                        "name": "total_revenue"
                                    }
                                ]
                            },
                            "data": [
                                {
                                    "0": "marketing campaigns",
                                    "1": "1289.81"
                                },
                                {
                                    "0": "outside marketing campaigns",
                                    "1": "3379.3099999999977"
                                }
                            ]
                        },
                        "text/html": [
                            "<table>",
                            "<tr><th>transaction_type</th><th>total_revenue</th></tr>",
                            "<tr><td>marketing campaigns</td><td>1289.81</td></tr>",
                            "<tr><td>outside marketing campaigns</td><td>3379.3099999999977</td></tr>",
                            "</table>"
                        ]
                    }
                }
            ],
            "execution_count": 11
        },
        {
            "cell_type": "markdown",
            "source": [
                "10\\. Rank the products by their average daily quantity sold"
            ],
            "metadata": {
                "language": "sql",
                "azdata_cell_guid": "ef6f8574-dac4-4a6c-bc8a-0d439437bbd9"
            },
            "attachments": {}
        },
        {
            "cell_type": "code",
            "source": [
                "with avg_daily_quantity as (\r\n",
                "    select\r\n",
                "        sc.product_name as product_name,\r\n",
                "        avg(t.quantity * 1.0 / datediff(day, mc.start_date, mc.end_date)) as avg_daily_quantity_sold\r\n",
                "    from sustainable_clothing sc\r\n",
                "    join transactions t on t.product_id = sc.product_id\r\n",
                "    join marketing_campaigns mc on mc.product_id = sc.product_id\r\n",
                "    group by sc.product_name)\r\n",
                "select\r\n",
                "    product_name,\r\n",
                "    avg_daily_quantity_sold,\r\n",
                "    rank() over (order by avg_daily_quantity_sold desc) as ranking\r\n",
                "from avg_daily_quantity\r\n",
                "order by ranking;"
            ],
            "metadata": {
                "azdata_cell_guid": "b17a4ddb-566a-4731-babe-08a13395635f",
                "language": "sql"
            },
            "outputs": [
                {
                    "output_type": "display_data",
                    "data": {
                        "text/html": "(3 rows affected)"
                    },
                    "metadata": {}
                },
                {
                    "output_type": "display_data",
                    "data": {
                        "text/html": "Total execution time: 00:00:00.046"
                    },
                    "metadata": {}
                },
                {
                    "output_type": "execute_result",
                    "metadata": {},
                    "execution_count": 12,
                    "data": {
                        "application/vnd.dataresource+json": {
                            "schema": {
                                "fields": [
                                    {
                                        "name": "product_name"
                                    },
                                    {
                                        "name": "avg_daily_quantity_sold"
                                    },
                                    {
                                        "name": "ranking"
                                    }
                                ]
                            },
                            "data": [
                                {
                                    "0": "Bamboo Yoga Leggings",
                                    "1": "0.043010752688",
                                    "2": "1"
                                },
                                {
                                    "0": "Recycled Denim Jeans",
                                    "1": "0.039408866994",
                                    "2": "2"
                                },
                                {
                                    "0": "Organic Cotton Dress",
                                    "1": "0.038461538461",
                                    "2": "3"
                                }
                            ]
                        },
                        "text/html": [
                            "<table>",
                            "<tr><th>product_name</th><th>avg_daily_quantity_sold</th><th>ranking</th></tr>",
                            "<tr><td>Bamboo Yoga Leggings</td><td>0.043010752688</td><td>1</td></tr>",
                            "<tr><td>Recycled Denim Jeans</td><td>0.039408866994</td><td>2</td></tr>",
                            "<tr><td>Organic Cotton Dress</td><td>0.038461538461</td><td>3</td></tr>",
                            "</table>"
                        ]
                    }
                }
            ],
            "execution_count": 12
        }
    ]
}